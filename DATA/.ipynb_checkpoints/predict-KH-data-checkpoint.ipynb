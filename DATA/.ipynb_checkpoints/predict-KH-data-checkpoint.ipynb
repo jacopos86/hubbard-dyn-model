{
 "cells": [
  {
   "cell_type": "markdown",
   "id": "00879d8e",
   "metadata": {},
   "source": [
    "# Open data file"
   ]
  },
  {
   "cell_type": "code",
   "execution_count": 1,
   "id": "d3d93834",
   "metadata": {},
   "outputs": [],
   "source": [
    "import numpy as np\n",
    "import pandas as pd\n",
    "import h5py\n",
    "import matplotlib.pyplot as plt"
   ]
  },
  {
   "cell_type": "markdown",
   "id": "4567ca88",
   "metadata": {},
   "source": [
    "# make list of files in dir"
   ]
  },
  {
   "cell_type": "code",
   "execution_count": 2,
   "id": "5a8f1593",
   "metadata": {},
   "outputs": [
    {
     "name": "stdout",
     "output_type": "stream",
     "text": [
      "n. files=  21456\n"
     ]
    }
   ],
   "source": [
    "from os import listdir\n",
    "from os.path import isfile, join\n",
    "mypath = \"./DATA\"\n",
    "files_list = [f for f in listdir(mypath) if isfile(join(mypath, f))]\n",
    "print(\"n. files= \", len(files_list))"
   ]
  },
  {
   "cell_type": "markdown",
   "id": "0299aa32",
   "metadata": {},
   "source": [
    "# Extract FHK arrays - store density\n",
    "# y = FHK\n",
    "# X = n1 ; n2"
   ]
  },
  {
   "cell_type": "code",
   "execution_count": 3,
   "id": "ac6b45a0",
   "metadata": {},
   "outputs": [
    {
     "ename": "UnicodeDecodeError",
     "evalue": "'utf-8' codec can't decode byte 0x89 in position 0: invalid start byte",
     "output_type": "error",
     "traceback": [
      "\u001b[0;31m---------------------------------------------------------------------------\u001b[0m",
      "\u001b[0;31mUnicodeDecodeError\u001b[0m                        Traceback (most recent call last)",
      "\u001b[0;32m<ipython-input-3-df60e9518a69>\u001b[0m in \u001b[0;36m<module>\u001b[0;34m\u001b[0m\n\u001b[1;32m      8\u001b[0m     \u001b[0mfil\u001b[0m \u001b[0;34m=\u001b[0m \u001b[0mmypath\u001b[0m \u001b[0;34m+\u001b[0m \u001b[0;34m\"/\"\u001b[0m \u001b[0;34m+\u001b[0m \u001b[0mfil\u001b[0m\u001b[0;34m\u001b[0m\u001b[0;34m\u001b[0m\u001b[0m\n\u001b[1;32m      9\u001b[0m     \u001b[0mf\u001b[0m \u001b[0;34m=\u001b[0m \u001b[0mopen\u001b[0m\u001b[0;34m(\u001b[0m\u001b[0mfil\u001b[0m\u001b[0;34m,\u001b[0m \u001b[0;34m'r'\u001b[0m\u001b[0;34m)\u001b[0m\u001b[0;34m\u001b[0m\u001b[0;34m\u001b[0m\u001b[0m\n\u001b[0;32m---> 10\u001b[0;31m     \u001b[0mlines\u001b[0m \u001b[0;34m=\u001b[0m \u001b[0mf\u001b[0m\u001b[0;34m.\u001b[0m\u001b[0mreadlines\u001b[0m\u001b[0;34m(\u001b[0m\u001b[0;34m)\u001b[0m\u001b[0;34m\u001b[0m\u001b[0;34m\u001b[0m\u001b[0m\n\u001b[0m\u001b[1;32m     11\u001b[0m     \u001b[0mrho\u001b[0m \u001b[0;34m=\u001b[0m \u001b[0;34m[\u001b[0m\u001b[0;34m]\u001b[0m\u001b[0;34m\u001b[0m\u001b[0;34m\u001b[0m\u001b[0m\n\u001b[1;32m     12\u001b[0m     \u001b[0mj\u001b[0m \u001b[0;34m=\u001b[0m \u001b[0;36m0\u001b[0m\u001b[0;34m\u001b[0m\u001b[0;34m\u001b[0m\u001b[0m\n",
      "\u001b[0;32m~/anaconda3/envs/htddft/lib/python3.6/codecs.py\u001b[0m in \u001b[0;36mdecode\u001b[0;34m(self, input, final)\u001b[0m\n\u001b[1;32m    319\u001b[0m         \u001b[0;31m# decode input (taking the buffer into account)\u001b[0m\u001b[0;34m\u001b[0m\u001b[0;34m\u001b[0m\u001b[0;34m\u001b[0m\u001b[0m\n\u001b[1;32m    320\u001b[0m         \u001b[0mdata\u001b[0m \u001b[0;34m=\u001b[0m \u001b[0mself\u001b[0m\u001b[0;34m.\u001b[0m\u001b[0mbuffer\u001b[0m \u001b[0;34m+\u001b[0m \u001b[0minput\u001b[0m\u001b[0;34m\u001b[0m\u001b[0;34m\u001b[0m\u001b[0m\n\u001b[0;32m--> 321\u001b[0;31m         \u001b[0;34m(\u001b[0m\u001b[0mresult\u001b[0m\u001b[0;34m,\u001b[0m \u001b[0mconsumed\u001b[0m\u001b[0;34m)\u001b[0m \u001b[0;34m=\u001b[0m \u001b[0mself\u001b[0m\u001b[0;34m.\u001b[0m\u001b[0m_buffer_decode\u001b[0m\u001b[0;34m(\u001b[0m\u001b[0mdata\u001b[0m\u001b[0;34m,\u001b[0m \u001b[0mself\u001b[0m\u001b[0;34m.\u001b[0m\u001b[0merrors\u001b[0m\u001b[0;34m,\u001b[0m \u001b[0mfinal\u001b[0m\u001b[0;34m)\u001b[0m\u001b[0;34m\u001b[0m\u001b[0;34m\u001b[0m\u001b[0m\n\u001b[0m\u001b[1;32m    322\u001b[0m         \u001b[0;31m# keep undecoded input until the next call\u001b[0m\u001b[0;34m\u001b[0m\u001b[0;34m\u001b[0m\u001b[0;34m\u001b[0m\u001b[0m\n\u001b[1;32m    323\u001b[0m         \u001b[0mself\u001b[0m\u001b[0;34m.\u001b[0m\u001b[0mbuffer\u001b[0m \u001b[0;34m=\u001b[0m \u001b[0mdata\u001b[0m\u001b[0;34m[\u001b[0m\u001b[0mconsumed\u001b[0m\u001b[0;34m:\u001b[0m\u001b[0;34m]\u001b[0m\u001b[0;34m\u001b[0m\u001b[0;34m\u001b[0m\u001b[0m\n",
      "\u001b[0;31mUnicodeDecodeError\u001b[0m: 'utf-8' codec can't decode byte 0x89 in position 0: invalid start byte"
     ]
    }
   ],
   "source": [
    "nf = 3000\n",
    "im = 3000\n",
    "# data sets\n",
    "X = []\n",
    "y = []\n",
    "for i in range(nf):\n",
    "    fil = files_list[i]\n",
    "    print(fil)\n",
    "    fil = mypath + \"/\" + fil\n",
    "    f = open(fil, 'r')\n",
    "    lines = f.readlines()\n",
    "    rho = []\n",
    "    j = 0\n",
    "    for line in lines:\n",
    "        l = line.split()\n",
    "        if j <= im:\n",
    "            rho.append(float(l[0]))\n",
    "            rho.append(float(l[1]))\n",
    "        if j == im:\n",
    "            y.append(float(l[2]))\n",
    "        if j > im:\n",
    "            break\n",
    "        j=j+1\n",
    "    X.append(np.array(rho))\n",
    "    print(i)"
   ]
  },
  {
   "cell_type": "markdown",
   "id": "e058e5cd",
   "metadata": {},
   "source": [
    "# n1 - n2 = dn\n",
    "# n1 + n2 = 2\n",
    "# n1 = 1 + dn / 2\n",
    "# n2 = 1 - dn / 2"
   ]
  },
  {
   "cell_type": "code",
   "execution_count": 8,
   "id": "566840bb",
   "metadata": {},
   "outputs": [
    {
     "name": "stdout",
     "output_type": "stream",
     "text": [
      "3000\n",
      "3000\n",
      "6002\n"
     ]
    }
   ],
   "source": [
    "print(len(X))\n",
    "print(len(y))\n",
    "nfeat, = X[0].shape\n",
    "print(nfeat)"
   ]
  },
  {
   "cell_type": "markdown",
   "id": "bb8631d8",
   "metadata": {},
   "source": [
    "extract KH functional value"
   ]
  },
  {
   "cell_type": "code",
   "execution_count": 9,
   "id": "bf8b6aac",
   "metadata": {},
   "outputs": [
    {
     "data": {
      "text/plain": [
       "[<matplotlib.lines.Line2D at 0x7f433e6414c0>]"
      ]
     },
     "execution_count": 9,
     "metadata": {},
     "output_type": "execute_result"
    },
    {
     "data": {
      "image/png": "[encoded data removed]",
      "text/plain": [
       "<Figure size 432x288 with 1 Axes>"
      ]
     },
     "metadata": {
      "needs_background": "light"
     },
     "output_type": "display_data"
    }
   ],
   "source": [
    "# regularize y\n",
    "yreg = []*len(y)\n",
    "c0 = np.min(y)\n",
    "yreg[:] = y[:] - c0\n",
    "c1 = np.max(yreg)\n",
    "yreg[:] = yreg[:] / c1\n",
    "plt.plot(yreg)"
   ]
  },
  {
   "cell_type": "markdown",
   "id": "7767a935",
   "metadata": {},
   "source": [
    "# Set train - test data"
   ]
  },
  {
   "cell_type": "code",
   "execution_count": 10,
   "id": "b9007f10",
   "metadata": {},
   "outputs": [
    {
     "name": "stdout",
     "output_type": "stream",
     "text": [
      "2700 300 2700 300\n"
     ]
    }
   ],
   "source": [
    "from sklearn.model_selection import train_test_split\n",
    "X_train, X_test, y_train, y_test = train_test_split(X, y, test_size=0.90, random_state=32)\n",
    "print(len(X_test), len(X_train), len(y_test), len(y_train))"
   ]
  },
  {
   "cell_type": "markdown",
   "id": "0add8526",
   "metadata": {},
   "source": [
    "# Define keras model"
   ]
  },
  {
   "cell_type": "code",
   "execution_count": 11,
   "id": "b9c92d34",
   "metadata": {},
   "outputs": [],
   "source": [
    "from keras.models import Sequential\n",
    "from keras.layers import Dense\n",
    "from keras.optimizers import SGD\n",
    "from sklearn.preprocessing import StandardScaler"
   ]
  },
  {
   "cell_type": "code",
   "execution_count": 17,
   "id": "0956baee",
   "metadata": {},
   "outputs": [],
   "source": [
    "# define keras model\n",
    "input_dim, = X[0].shape\n",
    "model = Sequential()\n",
    "# try with 2 hidden layers\n",
    "# NN perform better when real valued input-output are rescaled\n",
    "Xsc = StandardScaler().fit_transform(X)\n",
    "ysc = StandardScaler().fit_transform(np.array(y).reshape(len(y),1))[:,0]\n",
    "# divide between train - test\n",
    "ntrain = int(4./5*Xsc.shape[0])\n",
    "trainX, testX = Xsc[:ntrain,:], Xsc[ntrain:,:]\n",
    "trainy, testy = ysc[:ntrain], ysc[ntrain:]"
   ]
  },
  {
   "cell_type": "code",
   "execution_count": 18,
   "id": "1a153ceb",
   "metadata": {},
   "outputs": [],
   "source": [
    "# train model\n",
    "nn1 = 2*nfeat\n",
    "model.add(Dense(nn1,input_dim=input_dim,activation='relu',kernel_initializer='he_uniform'))"
   ]
  },
  {
   "cell_type": "code",
   "execution_count": null,
   "id": "8d99496b",
   "metadata": {},
   "outputs": [],
   "source": []
  },
  {
   "cell_type": "code",
   "execution_count": null,
   "id": "cf821ad9",
   "metadata": {},
   "outputs": [],
   "source": []
  },
  {
   "cell_type": "code",
   "execution_count": null,
   "id": "5ff956d2",
   "metadata": {},
   "outputs": [],
   "source": []
  }
 ],
 "metadata": {
  "kernelspec": {
   "display_name": "Python 3",
   "language": "python",
   "name": "python3"
  },
  "language_info": {
   "codemirror_mode": {
    "name": "ipython",
    "version": 3
   },
   "file_extension": ".py",
   "mimetype": "text/x-python",
   "name": "python",
   "nbconvert_exporter": "python",
   "pygments_lexer": "ipython3",
   "version": "3.6.13"
  }
 },
 "nbformat": 4,
 "nbformat_minor": 5
}
